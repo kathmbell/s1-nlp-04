{
 "cells": [
  {
   "cell_type": "code",
   "execution_count": 1,
   "metadata": {},
   "outputs": [],
   "source": [
    "from bs4 import BeautifulSoup\n",
    "from IPython.core.display import display, HTML\n",
    "import requests\n",
    "import os\n",
    "import urllib.request\n",
    "from urllib.request import urlretrieve"
   ]
  },
  {
   "cell_type": "code",
   "execution_count": 36,
   "metadata": {},
   "outputs": [],
   "source": [
    "count = 1\n",
    "url_list = []\n",
    "while count < 1300:\n",
    "    url_test = 'https://www.sec.gov/cgi-bin/srch-edgar?text=S-1&start=' + str(count) + '&count=80&first=2018&last=2019'\n",
    "    response = requests.get(url_test)\n",
    "    if response.status_code == 200:\n",
    "        url_list.append(url_test)\n",
    "        count += 80\n"
   ]
  },
  {
   "cell_type": "code",
   "execution_count": 55,
   "metadata": {},
   "outputs": [],
   "source": [
    "date_list = []\n",
    "td_list = []\n",
    "hyperlink_text = []\n",
    "\n",
    "hyperlink_dict = {}\n",
    "\n",
    "for url in url_list:\n",
    "    response = requests.get(url)\n",
    "    page = response.text\n",
    "    soup= BeautifulSoup(page,'lxml')\n",
    "    for tag in soup.find_all('tr'):\n",
    "        for j in tag.find_all('td'):\n",
    "            if ('/2019' in j.text) or ('/2018' in j.text):\n",
    "                date = j.text\n",
    "                date = date.replace(\"/\", \"-\")\n",
    "                date_list.append(date)\n",
    "            for k in j.find_all('a'):   \n",
    "                if (\"Search\" not in k.text) and (\"Home\" not in k.text) and (\"Previous\" not in k.text) and (\"text\" not in k.text) and (\"html\" not in k.text) and (k.text != \"\\n\"):\n",
    "                    key =  date + \"_\" + k.text # this gets company name and date submitted as key\n",
    "                    key = key.replace(\" \", \"_\")\n",
    "                    key = key.replace(\".\", \"\")\n",
    "                    key = key.replace(\"/\", \"--\")\n",
    "                    td_list.append(key)\n",
    "\n",
    "                if k.text == \"[text]\":\n",
    "                    value = \"https://www.sec.gov\" + k['href']\n",
    "                    hyperlink_text.append(value)\n",
    "\n",
    "hyperlink_dict = dict(zip(td_list, hyperlink_text))"
   ]
  },
  {
   "cell_type": "code",
   "execution_count": 56,
   "metadata": {},
   "outputs": [
    {
     "data": {
      "text/plain": [
       "1239"
      ]
     },
     "execution_count": 56,
     "metadata": {},
     "output_type": "execute_result"
    }
   ],
   "source": [
    "len(hyperlink_dict)"
   ]
  },
  {
   "cell_type": "code",
   "execution_count": 57,
   "metadata": {},
   "outputs": [],
   "source": [
    "path = \"/Users/kathmbell/Dropbox/project_04\"\n",
    "\n",
    "for key, url in hyperlink_dict.items():\n",
    "    page = urllib.request.urlopen(url)\n",
    "    name = key + \".txt\"\n",
    "    completeName = os.path.join(path, name) \n",
    "    f = open(completeName,'w')\n",
    "    content = str(page.read())\n",
    "    f.write(content)\n",
    "    f.close()\n",
    "\n"
   ]
  }
 ],
 "metadata": {
  "kernelspec": {
   "display_name": "Python 3",
   "language": "python",
   "name": "python3"
  },
  "language_info": {
   "codemirror_mode": {
    "name": "ipython",
    "version": 3
   },
   "file_extension": ".py",
   "mimetype": "text/x-python",
   "name": "python",
   "nbconvert_exporter": "python",
   "pygments_lexer": "ipython3",
   "version": "3.7.3"
  }
 },
 "nbformat": 4,
 "nbformat_minor": 2
}
